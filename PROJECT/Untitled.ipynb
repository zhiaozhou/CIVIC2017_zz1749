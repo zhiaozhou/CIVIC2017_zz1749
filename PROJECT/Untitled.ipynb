{
 "cells": [
  {
   "cell_type": "code",
   "execution_count": 1,
   "metadata": {},
   "outputs": [
    {
     "name": "stdout",
     "output_type": "stream",
     "text": [
      "Populating the interactive namespace from numpy and matplotlib\n"
     ]
    }
   ],
   "source": [
    "import pandas as pd\n",
    "import numpy as np\n",
    "import pylab as pl\n",
    "%pylab inline\n",
    "pl.style.use('ggplot')"
   ]
  },
  {
   "cell_type": "code",
   "execution_count": 3,
   "metadata": {
    "collapsed": true
   },
   "outputs": [],
   "source": [
    "df = pd.read_csv('Energy_and_Water_Data_Disclosure_for_Local_Law__2014_.csv')"
   ]
  },
  {
   "cell_type": "code",
   "execution_count": 4,
   "metadata": {},
   "outputs": [
    {
     "data": {
      "text/html": [
       "<div>\n",
       "<style>\n",
       "    .dataframe thead tr:only-child th {\n",
       "        text-align: right;\n",
       "    }\n",
       "\n",
       "    .dataframe thead th {\n",
       "        text-align: left;\n",
       "    }\n",
       "\n",
       "    .dataframe tbody tr th {\n",
       "        vertical-align: top;\n",
       "    }\n",
       "</style>\n",
       "<table border=\"1\" class=\"dataframe\">\n",
       "  <thead>\n",
       "    <tr style=\"text-align: right;\">\n",
       "      <th></th>\n",
       "      <th>Record Number</th>\n",
       "      <th>BBL</th>\n",
       "      <th>Co-reported BBL Status</th>\n",
       "      <th>BBLs Co-reported</th>\n",
       "      <th>Reported NYC Building Identification Numbers (BINs)</th>\n",
       "      <th>Street Number</th>\n",
       "      <th>Street Name</th>\n",
       "      <th>Borough</th>\n",
       "      <th>Postcode</th>\n",
       "      <th>BBL on the Covered Buildings List</th>\n",
       "      <th>...</th>\n",
       "      <th>DOF Property Floor Area (Buildngs and Parking)(ft2)</th>\n",
       "      <th>Primary Property Type - Self Selected</th>\n",
       "      <th>DOF Number of Buildings</th>\n",
       "      <th>Latitude</th>\n",
       "      <th>Longitude</th>\n",
       "      <th>Community Board</th>\n",
       "      <th>Council District</th>\n",
       "      <th>Census Tract</th>\n",
       "      <th>BIN</th>\n",
       "      <th>NTA</th>\n",
       "    </tr>\n",
       "  </thead>\n",
       "  <tbody>\n",
       "    <tr>\n",
       "      <th>0</th>\n",
       "      <td>2830985.0</td>\n",
       "      <td>4160830037</td>\n",
       "      <td>NaN</td>\n",
       "      <td>NaN</td>\n",
       "      <td>4303321</td>\n",
       "      <td>71</td>\n",
       "      <td>BEACH 70 STREET</td>\n",
       "      <td>QUEENS</td>\n",
       "      <td>11692.0</td>\n",
       "      <td>Yes</td>\n",
       "      <td>...</td>\n",
       "      <td>155000.0</td>\n",
       "      <td>Multifamily Housing</td>\n",
       "      <td>1.0</td>\n",
       "      <td>NaN</td>\n",
       "      <td>NaN</td>\n",
       "      <td>NaN</td>\n",
       "      <td>NaN</td>\n",
       "      <td>NaN</td>\n",
       "      <td>NaN</td>\n",
       "      <td>NaN</td>\n",
       "    </tr>\n",
       "  </tbody>\n",
       "</table>\n",
       "<p>1 rows × 33 columns</p>\n",
       "</div>"
      ],
      "text/plain": [
       "   Record Number         BBL Co-reported BBL Status BBLs Co-reported  \\\n",
       "0      2830985.0  4160830037                    NaN              NaN   \n",
       "\n",
       "  Reported NYC Building Identification Numbers (BINs) Street Number  \\\n",
       "0                                            4303321             71   \n",
       "\n",
       "            Street Name Borough  Postcode BBL on the Covered Buildings List  \\\n",
       "0  BEACH 70 STREET       QUEENS   11692.0                               Yes   \n",
       "\n",
       "  ...  DOF Property Floor Area (Buildngs and Parking)(ft2)  \\\n",
       "0 ...                                            155000.0    \n",
       "\n",
       "   Primary Property Type - Self Selected DOF Number of Buildings Latitude  \\\n",
       "0                    Multifamily Housing                     1.0      NaN   \n",
       "\n",
       "  Longitude Community Board Council District Census Tract BIN  NTA  \n",
       "0       NaN             NaN              NaN          NaN NaN  NaN  \n",
       "\n",
       "[1 rows x 33 columns]"
      ]
     },
     "execution_count": 4,
     "metadata": {},
     "output_type": "execute_result"
    }
   ],
   "source": [
    "df.head(1)"
   ]
  },
  {
   "cell_type": "code",
   "execution_count": 6,
   "metadata": {},
   "outputs": [
    {
     "data": {
      "text/plain": [
       "['Record Number',\n",
       " 'BBL',\n",
       " 'Co-reported BBL Status',\n",
       " 'BBLs Co-reported',\n",
       " 'Reported NYC Building Identification Numbers (BINs)',\n",
       " 'Street Number',\n",
       " 'Street Name',\n",
       " 'Borough',\n",
       " 'Postcode',\n",
       " 'BBL on the Covered Buildings List',\n",
       " 'DOF Benchmarking Submission Status',\n",
       " 'Site EUI(kBtu/ft2)',\n",
       " 'Weather Normalized Site EUI(kBtu/ft2)',\n",
       " 'Source EUI(kBtu/ft2)',\n",
       " 'Weather Normalized Source EUI(kBtu/ft2)',\n",
       " 'Municipally Supplied Potable Water - Indoor Intensity (gal/ft\\xc2\\xb2)',\n",
       " 'Automatic Water Benchmarking Eligible',\n",
       " 'Reported Water Method',\n",
       " 'ENERGY STAR Score',\n",
       " 'Total GHG Emissions(MtCO2e)',\n",
       " 'Direct GHG Emissions(MtCO2e)',\n",
       " 'Indirect GHG Emissions(MtCO2e)',\n",
       " 'Reported Property Floor Area (Building(s)) (ft\\xc2\\xb2)',\n",
       " 'DOF Property Floor Area (Buildngs and Parking)(ft2)',\n",
       " 'Primary Property Type - Self Selected',\n",
       " 'DOF Number of Buildings',\n",
       " 'Latitude',\n",
       " 'Longitude',\n",
       " 'Community Board',\n",
       " 'Council District',\n",
       " 'Census Tract',\n",
       " 'BIN',\n",
       " 'NTA']"
      ]
     },
     "execution_count": 6,
     "metadata": {},
     "output_type": "execute_result"
    }
   ],
   "source": [
    "list(df.columns)"
   ]
  },
  {
   "cell_type": "code",
   "execution_count": 8,
   "metadata": {
    "collapsed": true
   },
   "outputs": [],
   "source": [
    "import scipy\n",
    "import scipy.stats"
   ]
  },
  {
   "cell_type": "code",
   "execution_count": 10,
   "metadata": {
    "collapsed": true
   },
   "outputs": [],
   "source": [
    "scipy.stats.kstest?"
   ]
  }
 ],
 "metadata": {
  "kernelspec": {
   "display_name": "Python 2",
   "language": "python",
   "name": "python2"
  },
  "language_info": {
   "codemirror_mode": {
    "name": "ipython",
    "version": 2
   },
   "file_extension": ".py",
   "mimetype": "text/x-python",
   "name": "python",
   "nbconvert_exporter": "python",
   "pygments_lexer": "ipython2",
   "version": "2.7.13"
  }
 },
 "nbformat": 4,
 "nbformat_minor": 2
}
