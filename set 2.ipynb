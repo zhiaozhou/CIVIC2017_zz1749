{
 "cells": [
  {
   "cell_type": "code",
   "execution_count": 1,
   "metadata": {
    "collapsed": false
   },
   "outputs": [],
   "source": [
    "import pandas as pd\n",
    "import numpy as np\n",
    "import matplotlib.pyplot as plt\n",
    "import operator\n",
    "import requests\n",
    "import scipy.stats as stats\n",
    "from operator import itemgetter"
   ]
  },
  {
   "cell_type": "code",
   "execution_count": 2,
   "metadata": {
    "collapsed": false
   },
   "outputs": [
    {
     "data": {
      "text/html": [
       "<div>\n",
       "<table border=\"1\" class=\"dataframe\">\n",
       "  <thead>\n",
       "    <tr style=\"text-align: right;\">\n",
       "      <th></th>\n",
       "      <th>Unnamed: 0</th>\n",
       "      <th>Record Number</th>\n",
       "      <th>Order</th>\n",
       "      <th>NYC Borough, Block and Lot (BBL)</th>\n",
       "      <th>Co-reported BBL Status</th>\n",
       "      <th>BBLs Co-reported</th>\n",
       "      <th>Reported NYC Building Identification Numbers (BINs)</th>\n",
       "      <th>Property Name</th>\n",
       "      <th>Parent Property Id</th>\n",
       "      <th>Parent Property Name</th>\n",
       "      <th>...</th>\n",
       "      <th>Direct GHG Emissions (Metric Tons CO2e)</th>\n",
       "      <th>Indirect GHG Emissions (Metric Tons CO2e)</th>\n",
       "      <th>DOF Property Floor Area (ft²)</th>\n",
       "      <th>Property GFA - Self-reported (ft²)</th>\n",
       "      <th>Water Use (All Water Sources) (kgal)</th>\n",
       "      <th>Municipally Supplied Potable Water - Indoor Intensity (gal/ft²)</th>\n",
       "      <th>Release Date</th>\n",
       "      <th>DEP Provided Water Use (kgal)</th>\n",
       "      <th>Automatic Water Benchmarking Eligible</th>\n",
       "      <th>Reported Water Method</th>\n",
       "    </tr>\n",
       "  </thead>\n",
       "  <tbody>\n",
       "    <tr>\n",
       "      <th>0</th>\n",
       "      <td>0</td>\n",
       "      <td>4113711.0</td>\n",
       "      <td>1</td>\n",
       "      <td>1.003360e+09</td>\n",
       "      <td>NaN</td>\n",
       "      <td>NaN</td>\n",
       "      <td>1088884</td>\n",
       "      <td>16 Bialystoker Place</td>\n",
       "      <td>Not Applicable: Standalone Property</td>\n",
       "      <td>Not Applicable: Standalone Property</td>\n",
       "      <td>...</td>\n",
       "      <td>290.2</td>\n",
       "      <td>146.1</td>\n",
       "      <td>98052.0</td>\n",
       "      <td>98000.0</td>\n",
       "      <td>NaN</td>\n",
       "      <td>NaN</td>\n",
       "      <td>2016-04-13 11:08:48</td>\n",
       "      <td>NaN</td>\n",
       "      <td>NaN</td>\n",
       "      <td>NaN</td>\n",
       "    </tr>\n",
       "    <tr>\n",
       "      <th>1</th>\n",
       "      <td>1</td>\n",
       "      <td>4630135.0</td>\n",
       "      <td>2</td>\n",
       "      <td>1.010618e+09</td>\n",
       "      <td>NaN</td>\n",
       "      <td>NaN</td>\n",
       "      <td>1026728</td>\n",
       "      <td>(7478) - 432 West 52nd Street Condominium</td>\n",
       "      <td>Not Applicable: Standalone Property</td>\n",
       "      <td>Not Applicable: Standalone Property</td>\n",
       "      <td>...</td>\n",
       "      <td>76.4</td>\n",
       "      <td>125.0</td>\n",
       "      <td>58851.0</td>\n",
       "      <td>57401.0</td>\n",
       "      <td>768.5</td>\n",
       "      <td>13.39</td>\n",
       "      <td>2016-04-26 21:52:05</td>\n",
       "      <td>NaN</td>\n",
       "      <td>Not Eligible</td>\n",
       "      <td>NaN</td>\n",
       "    </tr>\n",
       "    <tr>\n",
       "      <th>2</th>\n",
       "      <td>2</td>\n",
       "      <td>4626594.0</td>\n",
       "      <td>3</td>\n",
       "      <td>1.014270e+09</td>\n",
       "      <td>NaN</td>\n",
       "      <td>NaN</td>\n",
       "      <td>1043974</td>\n",
       "      <td>(9250) - 250 East 73rd Street</td>\n",
       "      <td>Not Applicable: Standalone Property</td>\n",
       "      <td>Not Applicable: Standalone Property</td>\n",
       "      <td>...</td>\n",
       "      <td>145.5</td>\n",
       "      <td>392.9</td>\n",
       "      <td>166432.0</td>\n",
       "      <td>166433.0</td>\n",
       "      <td>11901.5</td>\n",
       "      <td>71.51</td>\n",
       "      <td>2016-04-26 22:56:36</td>\n",
       "      <td>11897.0</td>\n",
       "      <td>Eligible</td>\n",
       "      <td>Manual</td>\n",
       "    </tr>\n",
       "    <tr>\n",
       "      <th>3</th>\n",
       "      <td>3</td>\n",
       "      <td>4626608.0</td>\n",
       "      <td>4</td>\n",
       "      <td>1.015180e+09</td>\n",
       "      <td>NaN</td>\n",
       "      <td>NaN</td>\n",
       "      <td>1048117</td>\n",
       "      <td>(9141) - 141 East 89th Street</td>\n",
       "      <td>Not Applicable: Standalone Property</td>\n",
       "      <td>Not Applicable: Standalone Property</td>\n",
       "      <td>...</td>\n",
       "      <td>304.6</td>\n",
       "      <td>394.7</td>\n",
       "      <td>114939.0</td>\n",
       "      <td>114939.0</td>\n",
       "      <td>7455.1</td>\n",
       "      <td>64.86</td>\n",
       "      <td>2016-04-26 22:38:03</td>\n",
       "      <td>7455.1</td>\n",
       "      <td>Eligible</td>\n",
       "      <td>ABS</td>\n",
       "    </tr>\n",
       "    <tr>\n",
       "      <th>4</th>\n",
       "      <td>4</td>\n",
       "      <td>5048763.0</td>\n",
       "      <td>5</td>\n",
       "      <td>1.003920e+09</td>\n",
       "      <td>NaN</td>\n",
       "      <td>NaN</td>\n",
       "      <td>1079685</td>\n",
       "      <td>605 East 9th ST</td>\n",
       "      <td>Not Applicable: Standalone Property</td>\n",
       "      <td>Not Applicable: Standalone Property</td>\n",
       "      <td>...</td>\n",
       "      <td>0.0</td>\n",
       "      <td>0.0</td>\n",
       "      <td>93420.0</td>\n",
       "      <td>111000.0</td>\n",
       "      <td>NaN</td>\n",
       "      <td>NaN</td>\n",
       "      <td>2016-07-28 17:28:14</td>\n",
       "      <td>NaN</td>\n",
       "      <td>NaN</td>\n",
       "      <td>NaN</td>\n",
       "    </tr>\n",
       "  </tbody>\n",
       "</table>\n",
       "<p>5 rows × 58 columns</p>\n",
       "</div>"
      ],
      "text/plain": [
       "   Unnamed: 0  Record Number  Order  NYC Borough, Block and Lot (BBL)  \\\n",
       "0           0      4113711.0      1                      1.003360e+09   \n",
       "1           1      4630135.0      2                      1.010618e+09   \n",
       "2           2      4626594.0      3                      1.014270e+09   \n",
       "3           3      4626608.0      4                      1.015180e+09   \n",
       "4           4      5048763.0      5                      1.003920e+09   \n",
       "\n",
       "  Co-reported BBL Status BBLs Co-reported  \\\n",
       "0                    NaN              NaN   \n",
       "1                    NaN              NaN   \n",
       "2                    NaN              NaN   \n",
       "3                    NaN              NaN   \n",
       "4                    NaN              NaN   \n",
       "\n",
       "  Reported NYC Building Identification Numbers (BINs)  \\\n",
       "0                                            1088884    \n",
       "1                                            1026728    \n",
       "2                                            1043974    \n",
       "3                                            1048117    \n",
       "4                                            1079685    \n",
       "\n",
       "                               Property Name  \\\n",
       "0                       16 Bialystoker Place   \n",
       "1  (7478) - 432 West 52nd Street Condominium   \n",
       "2              (9250) - 250 East 73rd Street   \n",
       "3              (9141) - 141 East 89th Street   \n",
       "4                            605 East 9th ST   \n",
       "\n",
       "                    Parent Property Id                 Parent Property Name  \\\n",
       "0  Not Applicable: Standalone Property  Not Applicable: Standalone Property   \n",
       "1  Not Applicable: Standalone Property  Not Applicable: Standalone Property   \n",
       "2  Not Applicable: Standalone Property  Not Applicable: Standalone Property   \n",
       "3  Not Applicable: Standalone Property  Not Applicable: Standalone Property   \n",
       "4  Not Applicable: Standalone Property  Not Applicable: Standalone Property   \n",
       "\n",
       "           ...           Direct GHG Emissions (Metric Tons CO2e)  \\\n",
       "0          ...                                             290.2   \n",
       "1          ...                                              76.4   \n",
       "2          ...                                             145.5   \n",
       "3          ...                                             304.6   \n",
       "4          ...                                               0.0   \n",
       "\n",
       "  Indirect GHG Emissions (Metric Tons CO2e)  DOF Property Floor Area (ft²)  \\\n",
       "0                                     146.1                        98052.0   \n",
       "1                                     125.0                        58851.0   \n",
       "2                                     392.9                       166432.0   \n",
       "3                                     394.7                       114939.0   \n",
       "4                                       0.0                        93420.0   \n",
       "\n",
       "  Property GFA - Self-reported (ft²) Water Use (All Water Sources) (kgal)  \\\n",
       "0                            98000.0                                  NaN   \n",
       "1                            57401.0                                768.5   \n",
       "2                           166433.0                              11901.5   \n",
       "3                           114939.0                               7455.1   \n",
       "4                           111000.0                                  NaN   \n",
       "\n",
       "  Municipally Supplied Potable Water - Indoor Intensity (gal/ft²)  \\\n",
       "0                                                NaN                \n",
       "1                                              13.39                \n",
       "2                                              71.51                \n",
       "3                                              64.86                \n",
       "4                                                NaN                \n",
       "\n",
       "          Release Date DEP Provided Water Use (kgal)  \\\n",
       "0  2016-04-13 11:08:48                           NaN   \n",
       "1  2016-04-26 21:52:05                           NaN   \n",
       "2  2016-04-26 22:56:36                       11897.0   \n",
       "3  2016-04-26 22:38:03                        7455.1   \n",
       "4  2016-07-28 17:28:14                           NaN   \n",
       "\n",
       "   Automatic Water Benchmarking Eligible Reported Water Method  \n",
       "0                                    NaN                   NaN  \n",
       "1                           Not Eligible                   NaN  \n",
       "2                               Eligible                Manual  \n",
       "3                               Eligible                   ABS  \n",
       "4                                    NaN                   NaN  \n",
       "\n",
       "[5 rows x 58 columns]"
      ]
     },
     "execution_count": 2,
     "metadata": {},
     "output_type": "execute_result"
    }
   ],
   "source": [
    "df_xls = pd.read_excel(\"nyc_benchmarking_disclosure_data_reported_in_2016.xlsx\")\n",
    "\n",
    "df_xls.to_csv(\"nyc_benchmarking_disclosure_data_reported_in_2016.csv\", encoding='utf-8')\n",
    "df = pd.read_csv(\"nyc_benchmarking_disclosure_data_reported_in_2016.csv\")\n",
    "df.head()"
   ]
  },
  {
   "cell_type": "code",
   "execution_count": 3,
   "metadata": {
    "collapsed": false
   },
   "outputs": [],
   "source": [
    "del df[\"Unnamed: 0\"]\n",
    "cols = df.columns.str.replace(\"\\xc2\\xb2\", \"_2\")\n",
    "df.columns = cols"
   ]
  },
  {
   "cell_type": "code",
   "execution_count": 4,
   "metadata": {
    "collapsed": false
   },
   "outputs": [
    {
     "data": {
      "text/plain": [
       "Index([u'Record Number', u'Order', u'NYC Borough, Block and Lot (BBL)',\n",
       "       u'Co-reported BBL Status', u'BBLs Co-reported',\n",
       "       u'Reported NYC Building Identification Numbers (BINs)',\n",
       "       u'Property Name', u'Parent Property Id', u'Parent Property Name',\n",
       "       u'Street Number', u'Street Name', u'Zip Code', u'Borough',\n",
       "       u'DOF Benchmarking Submission Status',\n",
       "       u'Primary Property Type - Self Selected',\n",
       "       u'List of All Property Use Types at Property',\n",
       "       u'Largest Property Use Type',\n",
       "       u'Largest Property Use Type - Gross Floor Area (ft_2)',\n",
       "       u'2nd Largest Property Use Type',\n",
       "       u'2nd Largest Property Use - Gross Floor Area (ft_2)',\n",
       "       u'3rd Largest Property Use Type',\n",
       "       u'3rd Largest Property Use Type - Gross Floor Area (ft_2)',\n",
       "       u'Year Built', u'Number of Buildings - Self-reported', u'Occupancy',\n",
       "       u'Metered Areas (Energy)', u'Metered Areas  (Water)',\n",
       "       u'ENERGY STAR Score', u'Site EUI (kBtu/ft_2)',\n",
       "       u'Weather Normalized Site EUI (kBtu/ft_2)',\n",
       "       u'Weather Normalized Site Electricity Intensity (kWh/ft_2)',\n",
       "       u'Weather Normalized Site Natural Gas Intensity (therms/ft_2)',\n",
       "       u'Source EUI (kBtu/ft_2)', u'Weather Normalized Source EUI (kBtu/ft_2)',\n",
       "       u'Fuel Oil #1 Use (kBtu)', u'Fuel Oil #2 Use (kBtu)',\n",
       "       u'Fuel Oil #4 Use (kBtu)', u'Fuel Oil #5 & 6 Use (kBtu)',\n",
       "       u'Diesel #2 Use (kBtu)', u'District Steam Use (kBtu)',\n",
       "       u'District Hot Water Use (kBtu)', u'District Chilled Water Use (kBtu)',\n",
       "       u'Natural Gas Use (kBtu)',\n",
       "       u'Weather Normalized Site Natural Gas Use (therms)',\n",
       "       u'Electricity Use - Grid Purchase (kBtu)',\n",
       "       u'Weather Normalized Site Electricity (kWh)',\n",
       "       u'Total GHG Emissions (Metric Tons CO2e)',\n",
       "       u'Direct GHG Emissions (Metric Tons CO2e)',\n",
       "       u'Indirect GHG Emissions (Metric Tons CO2e)',\n",
       "       u'DOF Property Floor Area (ft_2)',\n",
       "       u'Property GFA - Self-reported (ft_2)',\n",
       "       u'Water Use (All Water Sources) (kgal)',\n",
       "       u'Municipally Supplied Potable Water - Indoor Intensity (gal/ft_2)',\n",
       "       u'Release Date', u'DEP Provided Water Use (kgal)',\n",
       "       u'Automatic Water Benchmarking Eligible', u'Reported Water Method'],\n",
       "      dtype='object')"
      ]
     },
     "execution_count": 4,
     "metadata": {},
     "output_type": "execute_result"
    }
   ],
   "source": [
    "df.columns"
   ]
  },
  {
   "cell_type": "code",
   "execution_count": 5,
   "metadata": {
    "collapsed": false
   },
   "outputs": [
    {
     "data": {
      "text/html": [
       "<div>\n",
       "<table border=\"1\" class=\"dataframe\">\n",
       "  <thead>\n",
       "    <tr style=\"text-align: right;\">\n",
       "      <th></th>\n",
       "      <th>Record Number</th>\n",
       "      <th>Order</th>\n",
       "      <th>NYC Borough, Block and Lot (BBL)</th>\n",
       "      <th>Co-reported BBL Status</th>\n",
       "      <th>BBLs Co-reported</th>\n",
       "      <th>Reported NYC Building Identification Numbers (BINs)</th>\n",
       "      <th>Property Name</th>\n",
       "      <th>Parent Property Id</th>\n",
       "      <th>Parent Property Name</th>\n",
       "      <th>Street Number</th>\n",
       "      <th>...</th>\n",
       "      <th>Direct GHG Emissions (Metric Tons CO2e)</th>\n",
       "      <th>Indirect GHG Emissions (Metric Tons CO2e)</th>\n",
       "      <th>DOF Property Floor Area (ft_2)</th>\n",
       "      <th>Property GFA - Self-reported (ft_2)</th>\n",
       "      <th>Water Use (All Water Sources) (kgal)</th>\n",
       "      <th>Municipally Supplied Potable Water - Indoor Intensity (gal/ft_2)</th>\n",
       "      <th>Release Date</th>\n",
       "      <th>DEP Provided Water Use (kgal)</th>\n",
       "      <th>Automatic Water Benchmarking Eligible</th>\n",
       "      <th>Reported Water Method</th>\n",
       "    </tr>\n",
       "  </thead>\n",
       "  <tbody>\n",
       "    <tr>\n",
       "      <th>0</th>\n",
       "      <td>4113711.0</td>\n",
       "      <td>1</td>\n",
       "      <td>1.003360e+09</td>\n",
       "      <td>NaN</td>\n",
       "      <td>NaN</td>\n",
       "      <td>1088884</td>\n",
       "      <td>16 Bialystoker Place</td>\n",
       "      <td>Not Applicable: Standalone Property</td>\n",
       "      <td>Not Applicable: Standalone Property</td>\n",
       "      <td>15.0</td>\n",
       "      <td>...</td>\n",
       "      <td>290.2</td>\n",
       "      <td>146.1</td>\n",
       "      <td>98052.0</td>\n",
       "      <td>98000.0</td>\n",
       "      <td>NaN</td>\n",
       "      <td>NaN</td>\n",
       "      <td>2016-04-13 11:08:48</td>\n",
       "      <td>NaN</td>\n",
       "      <td>NaN</td>\n",
       "      <td>NaN</td>\n",
       "    </tr>\n",
       "    <tr>\n",
       "      <th>1</th>\n",
       "      <td>4630135.0</td>\n",
       "      <td>2</td>\n",
       "      <td>1.010618e+09</td>\n",
       "      <td>NaN</td>\n",
       "      <td>NaN</td>\n",
       "      <td>1026728</td>\n",
       "      <td>(7478) - 432 West 52nd Street Condominium</td>\n",
       "      <td>Not Applicable: Standalone Property</td>\n",
       "      <td>Not Applicable: Standalone Property</td>\n",
       "      <td>432.0</td>\n",
       "      <td>...</td>\n",
       "      <td>76.4</td>\n",
       "      <td>125.0</td>\n",
       "      <td>58851.0</td>\n",
       "      <td>57401.0</td>\n",
       "      <td>768.5</td>\n",
       "      <td>13.39</td>\n",
       "      <td>2016-04-26 21:52:05</td>\n",
       "      <td>NaN</td>\n",
       "      <td>Not Eligible</td>\n",
       "      <td>NaN</td>\n",
       "    </tr>\n",
       "    <tr>\n",
       "      <th>2</th>\n",
       "      <td>4626594.0</td>\n",
       "      <td>3</td>\n",
       "      <td>1.014270e+09</td>\n",
       "      <td>NaN</td>\n",
       "      <td>NaN</td>\n",
       "      <td>1043974</td>\n",
       "      <td>(9250) - 250 East 73rd Street</td>\n",
       "      <td>Not Applicable: Standalone Property</td>\n",
       "      <td>Not Applicable: Standalone Property</td>\n",
       "      <td>1393.0</td>\n",
       "      <td>...</td>\n",
       "      <td>145.5</td>\n",
       "      <td>392.9</td>\n",
       "      <td>166432.0</td>\n",
       "      <td>166433.0</td>\n",
       "      <td>11901.5</td>\n",
       "      <td>71.51</td>\n",
       "      <td>2016-04-26 22:56:36</td>\n",
       "      <td>11897.0</td>\n",
       "      <td>Eligible</td>\n",
       "      <td>Manual</td>\n",
       "    </tr>\n",
       "    <tr>\n",
       "      <th>3</th>\n",
       "      <td>4626608.0</td>\n",
       "      <td>4</td>\n",
       "      <td>1.015180e+09</td>\n",
       "      <td>NaN</td>\n",
       "      <td>NaN</td>\n",
       "      <td>1048117</td>\n",
       "      <td>(9141) - 141 East 89th Street</td>\n",
       "      <td>Not Applicable: Standalone Property</td>\n",
       "      <td>Not Applicable: Standalone Property</td>\n",
       "      <td>1341.0</td>\n",
       "      <td>...</td>\n",
       "      <td>304.6</td>\n",
       "      <td>394.7</td>\n",
       "      <td>114939.0</td>\n",
       "      <td>114939.0</td>\n",
       "      <td>7455.1</td>\n",
       "      <td>64.86</td>\n",
       "      <td>2016-04-26 22:38:03</td>\n",
       "      <td>7455.1</td>\n",
       "      <td>Eligible</td>\n",
       "      <td>ABS</td>\n",
       "    </tr>\n",
       "    <tr>\n",
       "      <th>4</th>\n",
       "      <td>5048763.0</td>\n",
       "      <td>5</td>\n",
       "      <td>1.003920e+09</td>\n",
       "      <td>NaN</td>\n",
       "      <td>NaN</td>\n",
       "      <td>1079685</td>\n",
       "      <td>605 East 9th ST</td>\n",
       "      <td>Not Applicable: Standalone Property</td>\n",
       "      <td>Not Applicable: Standalone Property</td>\n",
       "      <td>350.0</td>\n",
       "      <td>...</td>\n",
       "      <td>0.0</td>\n",
       "      <td>0.0</td>\n",
       "      <td>93420.0</td>\n",
       "      <td>111000.0</td>\n",
       "      <td>NaN</td>\n",
       "      <td>NaN</td>\n",
       "      <td>2016-07-28 17:28:14</td>\n",
       "      <td>NaN</td>\n",
       "      <td>NaN</td>\n",
       "      <td>NaN</td>\n",
       "    </tr>\n",
       "  </tbody>\n",
       "</table>\n",
       "<p>5 rows × 57 columns</p>\n",
       "</div>"
      ],
      "text/plain": [
       "   Record Number  Order  NYC Borough, Block and Lot (BBL)  \\\n",
       "0      4113711.0      1                      1.003360e+09   \n",
       "1      4630135.0      2                      1.010618e+09   \n",
       "2      4626594.0      3                      1.014270e+09   \n",
       "3      4626608.0      4                      1.015180e+09   \n",
       "4      5048763.0      5                      1.003920e+09   \n",
       "\n",
       "  Co-reported BBL Status BBLs Co-reported  \\\n",
       "0                    NaN              NaN   \n",
       "1                    NaN              NaN   \n",
       "2                    NaN              NaN   \n",
       "3                    NaN              NaN   \n",
       "4                    NaN              NaN   \n",
       "\n",
       "  Reported NYC Building Identification Numbers (BINs)  \\\n",
       "0                                            1088884    \n",
       "1                                            1026728    \n",
       "2                                            1043974    \n",
       "3                                            1048117    \n",
       "4                                            1079685    \n",
       "\n",
       "                               Property Name  \\\n",
       "0                       16 Bialystoker Place   \n",
       "1  (7478) - 432 West 52nd Street Condominium   \n",
       "2              (9250) - 250 East 73rd Street   \n",
       "3              (9141) - 141 East 89th Street   \n",
       "4                            605 East 9th ST   \n",
       "\n",
       "                    Parent Property Id                 Parent Property Name  \\\n",
       "0  Not Applicable: Standalone Property  Not Applicable: Standalone Property   \n",
       "1  Not Applicable: Standalone Property  Not Applicable: Standalone Property   \n",
       "2  Not Applicable: Standalone Property  Not Applicable: Standalone Property   \n",
       "3  Not Applicable: Standalone Property  Not Applicable: Standalone Property   \n",
       "4  Not Applicable: Standalone Property  Not Applicable: Standalone Property   \n",
       "\n",
       "   Street Number          ...           \\\n",
       "0           15.0          ...            \n",
       "1          432.0          ...            \n",
       "2         1393.0          ...            \n",
       "3         1341.0          ...            \n",
       "4          350.0          ...            \n",
       "\n",
       "  Direct GHG Emissions (Metric Tons CO2e)  \\\n",
       "0                                   290.2   \n",
       "1                                    76.4   \n",
       "2                                   145.5   \n",
       "3                                   304.6   \n",
       "4                                     0.0   \n",
       "\n",
       "   Indirect GHG Emissions (Metric Tons CO2e) DOF Property Floor Area (ft_2)  \\\n",
       "0                                      146.1                        98052.0   \n",
       "1                                      125.0                        58851.0   \n",
       "2                                      392.9                       166432.0   \n",
       "3                                      394.7                       114939.0   \n",
       "4                                        0.0                        93420.0   \n",
       "\n",
       "  Property GFA - Self-reported (ft_2) Water Use (All Water Sources) (kgal)  \\\n",
       "0                             98000.0                                  NaN   \n",
       "1                             57401.0                                768.5   \n",
       "2                            166433.0                              11901.5   \n",
       "3                            114939.0                               7455.1   \n",
       "4                            111000.0                                  NaN   \n",
       "\n",
       "  Municipally Supplied Potable Water - Indoor Intensity (gal/ft_2)  \\\n",
       "0                                                NaN                 \n",
       "1                                              13.39                 \n",
       "2                                              71.51                 \n",
       "3                                              64.86                 \n",
       "4                                                NaN                 \n",
       "\n",
       "          Release Date  DEP Provided Water Use (kgal)  \\\n",
       "0  2016-04-13 11:08:48                            NaN   \n",
       "1  2016-04-26 21:52:05                            NaN   \n",
       "2  2016-04-26 22:56:36                        11897.0   \n",
       "3  2016-04-26 22:38:03                         7455.1   \n",
       "4  2016-07-28 17:28:14                            NaN   \n",
       "\n",
       "  Automatic Water Benchmarking Eligible Reported Water Method  \n",
       "0                                   NaN                   NaN  \n",
       "1                          Not Eligible                   NaN  \n",
       "2                              Eligible                Manual  \n",
       "3                              Eligible                   ABS  \n",
       "4                                   NaN                   NaN  \n",
       "\n",
       "[5 rows x 57 columns]"
      ]
     },
     "execution_count": 5,
     "metadata": {},
     "output_type": "execute_result"
    }
   ],
   "source": [
    "df.head()"
   ]
  },
  {
   "cell_type": "markdown",
   "metadata": {
    "collapsed": true
   },
   "source": [
    "# show the top 5 mostly encountered building typologies"
   ]
  },
  {
   "cell_type": "code",
   "execution_count": 7,
   "metadata": {
    "collapsed": false
   },
   "outputs": [
    {
     "data": {
      "text/plain": [
       "[('Multifamily Housing', 8699),\n",
       " ('Office', 1233),\n",
       " ('See Primary BBL', 447),\n",
       " ('Hotel', 236),\n",
       " ('Non-Refrigerated Warehouse', 177),\n",
       " ('Other', 129)]"
      ]
     },
     "execution_count": 7,
     "metadata": {},
     "output_type": "execute_result"
    }
   ],
   "source": [
    "mydict = dict(zip(df.groupby('Primary Property Type - Self Selected')['Order'].count().index, \n",
    "                  df.groupby('Primary Property Type - Self Selected')[\"Order\"].count().values))\n",
    "sorted(mydict.items(), key = operator.itemgetter(1), reverse=True)[:6]"
   ]
  },
  {
   "cell_type": "code",
   "execution_count": 8,
   "metadata": {
    "collapsed": false
   },
   "outputs": [
    {
     "data": {
      "text/html": [
       "<div>\n",
       "<table border=\"1\" class=\"dataframe\">\n",
       "  <thead>\n",
       "    <tr style=\"text-align: right;\">\n",
       "      <th></th>\n",
       "      <th>Record Number</th>\n",
       "      <th>Order</th>\n",
       "      <th>NYC Borough, Block and Lot (BBL)</th>\n",
       "      <th>Co-reported BBL Status</th>\n",
       "      <th>BBLs Co-reported</th>\n",
       "      <th>Reported NYC Building Identification Numbers (BINs)</th>\n",
       "      <th>Property Name</th>\n",
       "      <th>Parent Property Id</th>\n",
       "      <th>Parent Property Name</th>\n",
       "      <th>Street Number</th>\n",
       "      <th>...</th>\n",
       "      <th>Direct GHG Emissions (Metric Tons CO2e)</th>\n",
       "      <th>Indirect GHG Emissions (Metric Tons CO2e)</th>\n",
       "      <th>DOF Property Floor Area (ft_2)</th>\n",
       "      <th>Property GFA - Self-reported (ft_2)</th>\n",
       "      <th>Water Use (All Water Sources) (kgal)</th>\n",
       "      <th>Municipally Supplied Potable Water - Indoor Intensity (gal/ft_2)</th>\n",
       "      <th>Release Date</th>\n",
       "      <th>DEP Provided Water Use (kgal)</th>\n",
       "      <th>Automatic Water Benchmarking Eligible</th>\n",
       "      <th>Reported Water Method</th>\n",
       "    </tr>\n",
       "  </thead>\n",
       "  <tbody>\n",
       "    <tr>\n",
       "      <th>0</th>\n",
       "      <td>4113711.0</td>\n",
       "      <td>1</td>\n",
       "      <td>1.003360e+09</td>\n",
       "      <td>NaN</td>\n",
       "      <td>NaN</td>\n",
       "      <td>1088884</td>\n",
       "      <td>16 Bialystoker Place</td>\n",
       "      <td>Not Applicable: Standalone Property</td>\n",
       "      <td>Not Applicable: Standalone Property</td>\n",
       "      <td>15.0</td>\n",
       "      <td>...</td>\n",
       "      <td>290.2</td>\n",
       "      <td>146.1</td>\n",
       "      <td>98052.0</td>\n",
       "      <td>98000.0</td>\n",
       "      <td>NaN</td>\n",
       "      <td>NaN</td>\n",
       "      <td>2016-04-13 11:08:48</td>\n",
       "      <td>NaN</td>\n",
       "      <td>NaN</td>\n",
       "      <td>NaN</td>\n",
       "    </tr>\n",
       "    <tr>\n",
       "      <th>1</th>\n",
       "      <td>4630135.0</td>\n",
       "      <td>2</td>\n",
       "      <td>1.010618e+09</td>\n",
       "      <td>NaN</td>\n",
       "      <td>NaN</td>\n",
       "      <td>1026728</td>\n",
       "      <td>(7478) - 432 West 52nd Street Condominium</td>\n",
       "      <td>Not Applicable: Standalone Property</td>\n",
       "      <td>Not Applicable: Standalone Property</td>\n",
       "      <td>432.0</td>\n",
       "      <td>...</td>\n",
       "      <td>76.4</td>\n",
       "      <td>125.0</td>\n",
       "      <td>58851.0</td>\n",
       "      <td>57401.0</td>\n",
       "      <td>768.5</td>\n",
       "      <td>13.39</td>\n",
       "      <td>2016-04-26 21:52:05</td>\n",
       "      <td>NaN</td>\n",
       "      <td>Not Eligible</td>\n",
       "      <td>NaN</td>\n",
       "    </tr>\n",
       "    <tr>\n",
       "      <th>2</th>\n",
       "      <td>4626594.0</td>\n",
       "      <td>3</td>\n",
       "      <td>1.014270e+09</td>\n",
       "      <td>NaN</td>\n",
       "      <td>NaN</td>\n",
       "      <td>1043974</td>\n",
       "      <td>(9250) - 250 East 73rd Street</td>\n",
       "      <td>Not Applicable: Standalone Property</td>\n",
       "      <td>Not Applicable: Standalone Property</td>\n",
       "      <td>1393.0</td>\n",
       "      <td>...</td>\n",
       "      <td>145.5</td>\n",
       "      <td>392.9</td>\n",
       "      <td>166432.0</td>\n",
       "      <td>166433.0</td>\n",
       "      <td>11901.5</td>\n",
       "      <td>71.51</td>\n",
       "      <td>2016-04-26 22:56:36</td>\n",
       "      <td>11897.0</td>\n",
       "      <td>Eligible</td>\n",
       "      <td>Manual</td>\n",
       "    </tr>\n",
       "    <tr>\n",
       "      <th>3</th>\n",
       "      <td>4626608.0</td>\n",
       "      <td>4</td>\n",
       "      <td>1.015180e+09</td>\n",
       "      <td>NaN</td>\n",
       "      <td>NaN</td>\n",
       "      <td>1048117</td>\n",
       "      <td>(9141) - 141 East 89th Street</td>\n",
       "      <td>Not Applicable: Standalone Property</td>\n",
       "      <td>Not Applicable: Standalone Property</td>\n",
       "      <td>1341.0</td>\n",
       "      <td>...</td>\n",
       "      <td>304.6</td>\n",
       "      <td>394.7</td>\n",
       "      <td>114939.0</td>\n",
       "      <td>114939.0</td>\n",
       "      <td>7455.1</td>\n",
       "      <td>64.86</td>\n",
       "      <td>2016-04-26 22:38:03</td>\n",
       "      <td>7455.1</td>\n",
       "      <td>Eligible</td>\n",
       "      <td>ABS</td>\n",
       "    </tr>\n",
       "    <tr>\n",
       "      <th>8</th>\n",
       "      <td>2792771.0</td>\n",
       "      <td>9</td>\n",
       "      <td>1.000088e+09</td>\n",
       "      <td>NaN</td>\n",
       "      <td>NaN</td>\n",
       "      <td>1087700</td>\n",
       "      <td>Whitehall Properties, LLC</td>\n",
       "      <td>Not Applicable: Standalone Property</td>\n",
       "      <td>Not Applicable: Standalone Property</td>\n",
       "      <td>39.0</td>\n",
       "      <td>...</td>\n",
       "      <td>1116.3</td>\n",
       "      <td>625.9</td>\n",
       "      <td>169061.0</td>\n",
       "      <td>169055.0</td>\n",
       "      <td>NaN</td>\n",
       "      <td>NaN</td>\n",
       "      <td>2016-03-23 12:34:18</td>\n",
       "      <td>NaN</td>\n",
       "      <td>NaN</td>\n",
       "      <td>NaN</td>\n",
       "    </tr>\n",
       "  </tbody>\n",
       "</table>\n",
       "<p>5 rows × 57 columns</p>\n",
       "</div>"
      ],
      "text/plain": [
       "   Record Number  Order  NYC Borough, Block and Lot (BBL)  \\\n",
       "0      4113711.0      1                      1.003360e+09   \n",
       "1      4630135.0      2                      1.010618e+09   \n",
       "2      4626594.0      3                      1.014270e+09   \n",
       "3      4626608.0      4                      1.015180e+09   \n",
       "8      2792771.0      9                      1.000088e+09   \n",
       "\n",
       "  Co-reported BBL Status BBLs Co-reported  \\\n",
       "0                    NaN              NaN   \n",
       "1                    NaN              NaN   \n",
       "2                    NaN              NaN   \n",
       "3                    NaN              NaN   \n",
       "8                    NaN              NaN   \n",
       "\n",
       "  Reported NYC Building Identification Numbers (BINs)  \\\n",
       "0                                            1088884    \n",
       "1                                            1026728    \n",
       "2                                            1043974    \n",
       "3                                            1048117    \n",
       "8                                            1087700    \n",
       "\n",
       "                               Property Name  \\\n",
       "0                       16 Bialystoker Place   \n",
       "1  (7478) - 432 West 52nd Street Condominium   \n",
       "2              (9250) - 250 East 73rd Street   \n",
       "3              (9141) - 141 East 89th Street   \n",
       "8                  Whitehall Properties, LLC   \n",
       "\n",
       "                    Parent Property Id                 Parent Property Name  \\\n",
       "0  Not Applicable: Standalone Property  Not Applicable: Standalone Property   \n",
       "1  Not Applicable: Standalone Property  Not Applicable: Standalone Property   \n",
       "2  Not Applicable: Standalone Property  Not Applicable: Standalone Property   \n",
       "3  Not Applicable: Standalone Property  Not Applicable: Standalone Property   \n",
       "8  Not Applicable: Standalone Property  Not Applicable: Standalone Property   \n",
       "\n",
       "   Street Number          ...           \\\n",
       "0           15.0          ...            \n",
       "1          432.0          ...            \n",
       "2         1393.0          ...            \n",
       "3         1341.0          ...            \n",
       "8           39.0          ...            \n",
       "\n",
       "  Direct GHG Emissions (Metric Tons CO2e)  \\\n",
       "0                                   290.2   \n",
       "1                                    76.4   \n",
       "2                                   145.5   \n",
       "3                                   304.6   \n",
       "8                                  1116.3   \n",
       "\n",
       "   Indirect GHG Emissions (Metric Tons CO2e) DOF Property Floor Area (ft_2)  \\\n",
       "0                                      146.1                        98052.0   \n",
       "1                                      125.0                        58851.0   \n",
       "2                                      392.9                       166432.0   \n",
       "3                                      394.7                       114939.0   \n",
       "8                                      625.9                       169061.0   \n",
       "\n",
       "  Property GFA - Self-reported (ft_2) Water Use (All Water Sources) (kgal)  \\\n",
       "0                             98000.0                                  NaN   \n",
       "1                             57401.0                                768.5   \n",
       "2                            166433.0                              11901.5   \n",
       "3                            114939.0                               7455.1   \n",
       "8                            169055.0                                  NaN   \n",
       "\n",
       "  Municipally Supplied Potable Water - Indoor Intensity (gal/ft_2)  \\\n",
       "0                                                NaN                 \n",
       "1                                              13.39                 \n",
       "2                                              71.51                 \n",
       "3                                              64.86                 \n",
       "8                                                NaN                 \n",
       "\n",
       "          Release Date  DEP Provided Water Use (kgal)  \\\n",
       "0  2016-04-13 11:08:48                            NaN   \n",
       "1  2016-04-26 21:52:05                            NaN   \n",
       "2  2016-04-26 22:56:36                        11897.0   \n",
       "3  2016-04-26 22:38:03                         7455.1   \n",
       "8  2016-03-23 12:34:18                            NaN   \n",
       "\n",
       "  Automatic Water Benchmarking Eligible Reported Water Method  \n",
       "0                                   NaN                   NaN  \n",
       "1                          Not Eligible                   NaN  \n",
       "2                              Eligible                Manual  \n",
       "3                              Eligible                   ABS  \n",
       "8                                   NaN                   NaN  \n",
       "\n",
       "[5 rows x 57 columns]"
      ]
     },
     "execution_count": 8,
     "metadata": {},
     "output_type": "execute_result"
    }
   ],
   "source": [
    "df = df[df['Primary Property Type - Self Selected']== 'Multifamily Housing']\n",
    "df.head()"
   ]
  },
  {
   "cell_type": "code",
   "execution_count": 13,
   "metadata": {
    "collapsed": false
   },
   "outputs": [
    {
     "name": "stdout",
     "output_type": "stream",
     "text": [
      "Are there missing values? --> False\n",
      "There are 0 missing values out of 8652 properties(0 ppercent)\n"
     ]
    }
   ],
   "source": [
    "# check if there are missing values\n",
    "print\"Are there missing values? -->\", df[\"Site EUI (kBtu/ft_2)\"].isnull().values.any()\n",
    "print \"There are %i missing values out of %i properties(%.lf ppercent)\" %(df[\"Site EUI (kBtu/ft_2)\"].isnull().sum(),\n",
    "                                                                          len(df), \n",
    "                                                                          df[\"Site EUI (kBtu/ft_2)\"].isnull().sum()/float(len(df))*100)"
   ]
  },
  {
   "cell_type": "code",
   "execution_count": null,
   "metadata": {
    "collapsed": true
   },
   "outputs": [],
   "source": []
  },
  {
   "cell_type": "markdown",
   "metadata": {
    "collapsed": true
   },
   "source": [
    "# Data Cleaning"
   ]
  },
  {
   "cell_type": "code",
   "execution_count": 10,
   "metadata": {
    "collapsed": false
   },
   "outputs": [
    {
     "name": "stdout",
     "output_type": "stream",
     "text": [
      "Examples after dropping NaNs: 8654\n"
     ]
    }
   ],
   "source": [
    "df = df.dropna(subset=[\"Site EUI (kBtu/ft_2)\"])\n",
    "print 'Examples after dropping NaNs:', len(df)"
   ]
  },
  {
   "cell_type": "code",
   "execution_count": 11,
   "metadata": {
    "collapsed": false
   },
   "outputs": [
    {
     "name": "stdout",
     "output_type": "stream",
     "text": [
      "Examples after dropping zeros: 8652\n"
     ]
    }
   ],
   "source": [
    "df = df[df['Site EUI (kBtu/ft_2)']>0]\n",
    "print 'Examples after dropping zeros:', len(df)"
   ]
  },
  {
   "cell_type": "code",
   "execution_count": 12,
   "metadata": {
    "collapsed": false
   },
   "outputs": [
    {
     "data": {
      "image/png": "[encoded data removed]",
      "text/plain": [
       "<matplotlib.figure.Figure at 0x7fbb87156550>"
      ]
     },
     "metadata": {},
     "output_type": "display_data"
    }
   ],
   "source": [
    "plt.hist(df[\"Site EUI (kBtu/ft_2)\"][df[\"Site EUI (kBtu/ft_2)\"]<1000], bins=200)\n",
    "plt.show()"
   ]
  },
  {
   "cell_type": "code",
   "execution_count": null,
   "metadata": {
    "collapsed": true
   },
   "outputs": [],
   "source": []
  },
  {
   "cell_type": "code",
   "execution_count": 16,
   "metadata": {
    "collapsed": false
   },
   "outputs": [
    {
     "name": "stdout",
     "output_type": "stream",
     "text": [
      "Examples after cleaning EUI: 8172\n"
     ]
    }
   ],
   "source": [
    "def clean(df):\n",
    "    df = df[(df.log_eui<np.mean(df.log_eui)+1*np.std(df.log_eui))&(df.log_eui>np.mean(df.log_eui)-2*np.std(df.log_eui))]\n",
    "    return df\n",
    "\n",
    "df[\"eui\"] = df[\"Site EUI (kBtu/ft_2)\"]\n",
    "df[\"log_eui\"] = np.log10(df.eui)\n",
    "df = clean(df)\n",
    "print \"Examples after cleaning EUI:\", len(df)"
   ]
  },
  {
   "cell_type": "code",
   "execution_count": 21,
   "metadata": {
    "collapsed": false
   },
   "outputs": [
    {
     "data": {
      "image/png": "[encoded data removed]",
      "text/plain": [
       "<matplotlib.figure.Figure at 0x7fbb8429b250>"
      ]
     },
     "metadata": {},
     "output_type": "display_data"
    }
   ],
   "source": [
    "plt.hist(df[\"Site EUI (kBtu/ft_2)\"], bins = 200)\n",
    "\n",
    "for label, pos in zip([\"A\", \"B\", \"C\"], df[\"Site EUI (kBtu/ft_2)\"].describe()[4:7].values):\n",
    "    plt.axvline(x=pos, color=\"firebrick\", linestyle=\"--\")\n",
    "    plt.text(pos-10, 220, label, fontsize=15)\n",
    "\n",
    "plt.text(pos+10, 220, \"D\", fontsize=15)\n",
    "\n",
    "plt.title(\"Site EUI distribution (Multifamily housing)\")\n",
    "plt.xlabel(\"Site EUI (kBtu/ft_2)\")\n",
    "plt.ylabel(\"Frequency\")\n",
    "plt.show()"
   ]
  },
  {
   "cell_type": "markdown",
   "metadata": {},
   "source": [
    "# Understanding relationships"
   ]
  },
  {
   "cell_type": "code",
   "execution_count": 34,
   "metadata": {
    "collapsed": false
   },
   "outputs": [],
   "source": [
    "def makeCorrPlots(x, y):\n",
    "    tmp = df[[x, y]]\n",
    "    tmp = tmp.dropna()\n",
    "    \n",
    "    slope, intercept, r_value, p_value, std_err = stats.linregress(tmp[x].astype(float), tmp[y])\n",
    "    \n",
    "    plt.scatter(tmp[x].astype(float), tmp[y], alpha=0.5)\n",
    "    plt.plot(tmp[x].astype(float), intercept+slope+tmp[x].astype('float'), color=\"firebrick\")\n",
    "    plt.title(\"%s v. %s (corr = %.2f)\" %(y, x, np.corrcoef(tmp[x].astype(\"float\"), tmp[y])[0][1]))"
   ]
  },
  {
   "cell_type": "code",
   "execution_count": 37,
   "metadata": {
    "collapsed": false
   },
   "outputs": [
    {
     "data": {
      "image/png": "[encoded data removed]",
      "text/plain": [
       "<matplotlib.figure.Figure at 0x7fbb77f32450>"
      ]
     },
     "metadata": {},
     "output_type": "display_data"
    }
   ],
   "source": [
    "for i, var in enumerate([\"Year Built\", \"Property GFA - Self-reported (ft_2)\", \"Occupancy\", \"ENERGY STAR Score\"], 1):\n",
    "    plt.subplot(2,2,i)\n",
    "    makeCorrPlots(var, \"eui\")\n",
    "plt.show()"
   ]
  },
  {
   "cell_type": "code",
   "execution_count": null,
   "metadata": {
    "collapsed": true
   },
   "outputs": [],
   "source": []
  },
  {
   "cell_type": "markdown",
   "metadata": {},
   "source": [
    "# Income, asthma, and energy"
   ]
  },
  {
   "cell_type": "markdown",
   "metadata": {},
   "source": [
    "## Get zipcode level energy efficiency"
   ]
  },
  {
   "cell_type": "code",
   "execution_count": 38,
   "metadata": {
    "collapsed": false
   },
   "outputs": [
    {
     "name": "stderr",
     "output_type": "stream",
     "text": [
      "/opt/rh/anaconda/root/envs/PUI2016_Python2/lib/python2.7/site-packages/ipykernel/__main__.py:2: SettingWithCopyWarning: \n",
      "A value is trying to be set on a copy of a slice from a DataFrame.\n",
      "Try using .loc[row_indexer,col_indexer] = value instead\n",
      "\n",
      "See the caveats in the documentation: http://pandas.pydata.org/pandas-docs/stable/indexing.html#indexing-view-versus-copy\n",
      "  from ipykernel import kernelapp as app\n"
     ]
    }
   ],
   "source": [
    "df =df[df[\"Zip Code\"].notnull()]\n",
    "df[\"Zip Code\"] = df[\"Zip Code\"].astype(int)"
   ]
  },
  {
   "cell_type": "code",
   "execution_count": 41,
   "metadata": {
    "collapsed": false
   },
   "outputs": [
    {
     "data": {
      "text/html": [
       "<div>\n",
       "<table border=\"1\" class=\"dataframe\">\n",
       "  <thead>\n",
       "    <tr style=\"text-align: right;\">\n",
       "      <th></th>\n",
       "      <th>Record Number</th>\n",
       "      <th>Order</th>\n",
       "      <th>NYC Borough, Block and Lot (BBL)</th>\n",
       "      <th>Street Number</th>\n",
       "      <th>Largest Property Use Type - Gross Floor Area (ft_2)</th>\n",
       "      <th>Number of Buildings - Self-reported</th>\n",
       "      <th>Occupancy</th>\n",
       "      <th>ENERGY STAR Score</th>\n",
       "      <th>Site EUI (kBtu/ft_2)</th>\n",
       "      <th>Weather Normalized Site EUI (kBtu/ft_2)</th>\n",
       "      <th>...</th>\n",
       "      <th>Total GHG Emissions (Metric Tons CO2e)</th>\n",
       "      <th>Direct GHG Emissions (Metric Tons CO2e)</th>\n",
       "      <th>Indirect GHG Emissions (Metric Tons CO2e)</th>\n",
       "      <th>DOF Property Floor Area (ft_2)</th>\n",
       "      <th>Property GFA - Self-reported (ft_2)</th>\n",
       "      <th>Water Use (All Water Sources) (kgal)</th>\n",
       "      <th>Municipally Supplied Potable Water - Indoor Intensity (gal/ft_2)</th>\n",
       "      <th>DEP Provided Water Use (kgal)</th>\n",
       "      <th>eui</th>\n",
       "      <th>log_eui</th>\n",
       "    </tr>\n",
       "    <tr>\n",
       "      <th>Zip Code</th>\n",
       "      <th></th>\n",
       "      <th></th>\n",
       "      <th></th>\n",
       "      <th></th>\n",
       "      <th></th>\n",
       "      <th></th>\n",
       "      <th></th>\n",
       "      <th></th>\n",
       "      <th></th>\n",
       "      <th></th>\n",
       "      <th></th>\n",
       "      <th></th>\n",
       "      <th></th>\n",
       "      <th></th>\n",
       "      <th></th>\n",
       "      <th></th>\n",
       "      <th></th>\n",
       "      <th></th>\n",
       "      <th></th>\n",
       "      <th></th>\n",
       "      <th></th>\n",
       "    </tr>\n",
       "  </thead>\n",
       "  <tbody>\n",
       "    <tr>\n",
       "      <th>10001</th>\n",
       "      <td>3126782.0</td>\n",
       "      <td>1025.0</td>\n",
       "      <td>1.007790e+09</td>\n",
       "      <td>252.0</td>\n",
       "      <td>114778.0</td>\n",
       "      <td>1.0</td>\n",
       "      <td>100.0</td>\n",
       "      <td>58.0</td>\n",
       "      <td>73.30</td>\n",
       "      <td>72.70</td>\n",
       "      <td>...</td>\n",
       "      <td>579.80</td>\n",
       "      <td>345.00</td>\n",
       "      <td>243.40</td>\n",
       "      <td>115925.0</td>\n",
       "      <td>115925.0</td>\n",
       "      <td>5161.55</td>\n",
       "      <td>39.875</td>\n",
       "      <td>3860.00</td>\n",
       "      <td>73.30</td>\n",
       "      <td>1.865104</td>\n",
       "    </tr>\n",
       "    <tr>\n",
       "      <th>10002</th>\n",
       "      <td>2948575.0</td>\n",
       "      <td>352.5</td>\n",
       "      <td>1.003260e+09</td>\n",
       "      <td>201.0</td>\n",
       "      <td>136070.0</td>\n",
       "      <td>1.0</td>\n",
       "      <td>100.0</td>\n",
       "      <td>45.0</td>\n",
       "      <td>90.80</td>\n",
       "      <td>90.50</td>\n",
       "      <td>...</td>\n",
       "      <td>874.00</td>\n",
       "      <td>284.55</td>\n",
       "      <td>540.85</td>\n",
       "      <td>131365.0</td>\n",
       "      <td>136070.0</td>\n",
       "      <td>6012.85</td>\n",
       "      <td>56.055</td>\n",
       "      <td>5129.60</td>\n",
       "      <td>90.80</td>\n",
       "      <td>1.958048</td>\n",
       "    </tr>\n",
       "    <tr>\n",
       "      <th>10003</th>\n",
       "      <td>2949182.5</td>\n",
       "      <td>657.5</td>\n",
       "      <td>1.005640e+09</td>\n",
       "      <td>102.0</td>\n",
       "      <td>103868.5</td>\n",
       "      <td>1.0</td>\n",
       "      <td>100.0</td>\n",
       "      <td>46.0</td>\n",
       "      <td>80.95</td>\n",
       "      <td>81.10</td>\n",
       "      <td>...</td>\n",
       "      <td>622.30</td>\n",
       "      <td>325.35</td>\n",
       "      <td>268.85</td>\n",
       "      <td>109575.0</td>\n",
       "      <td>115200.0</td>\n",
       "      <td>4771.30</td>\n",
       "      <td>42.750</td>\n",
       "      <td>4616.20</td>\n",
       "      <td>80.95</td>\n",
       "      <td>1.908193</td>\n",
       "    </tr>\n",
       "    <tr>\n",
       "      <th>10004</th>\n",
       "      <td>2960886.5</td>\n",
       "      <td>61.5</td>\n",
       "      <td>1.000249e+09</td>\n",
       "      <td>25.5</td>\n",
       "      <td>180903.0</td>\n",
       "      <td>1.0</td>\n",
       "      <td>100.0</td>\n",
       "      <td>2.0</td>\n",
       "      <td>103.40</td>\n",
       "      <td>102.80</td>\n",
       "      <td>...</td>\n",
       "      <td>1841.25</td>\n",
       "      <td>156.50</td>\n",
       "      <td>704.30</td>\n",
       "      <td>249098.5</td>\n",
       "      <td>233292.0</td>\n",
       "      <td>6226.25</td>\n",
       "      <td>0.320</td>\n",
       "      <td>7035.05</td>\n",
       "      <td>103.40</td>\n",
       "      <td>2.013860</td>\n",
       "    </tr>\n",
       "    <tr>\n",
       "      <th>10005</th>\n",
       "      <td>4038796.5</td>\n",
       "      <td>78.5</td>\n",
       "      <td>1.000303e+09</td>\n",
       "      <td>59.5</td>\n",
       "      <td>339926.5</td>\n",
       "      <td>1.0</td>\n",
       "      <td>100.0</td>\n",
       "      <td>30.0</td>\n",
       "      <td>80.75</td>\n",
       "      <td>80.85</td>\n",
       "      <td>...</td>\n",
       "      <td>2072.60</td>\n",
       "      <td>328.00</td>\n",
       "      <td>1122.05</td>\n",
       "      <td>382107.0</td>\n",
       "      <td>341626.5</td>\n",
       "      <td>14706.70</td>\n",
       "      <td>43.640</td>\n",
       "      <td>14706.70</td>\n",
       "      <td>80.75</td>\n",
       "      <td>1.906648</td>\n",
       "    </tr>\n",
       "  </tbody>\n",
       "</table>\n",
       "<p>5 rows × 28 columns</p>\n",
       "</div>"
      ],
      "text/plain": [
       "          Record Number   Order  NYC Borough, Block and Lot (BBL)  \\\n",
       "Zip Code                                                            \n",
       "10001         3126782.0  1025.0                      1.007790e+09   \n",
       "10002         2948575.0   352.5                      1.003260e+09   \n",
       "10003         2949182.5   657.5                      1.005640e+09   \n",
       "10004         2960886.5    61.5                      1.000249e+09   \n",
       "10005         4038796.5    78.5                      1.000303e+09   \n",
       "\n",
       "          Street Number  Largest Property Use Type - Gross Floor Area (ft_2)  \\\n",
       "Zip Code                                                                       \n",
       "10001             252.0                                           114778.0     \n",
       "10002             201.0                                           136070.0     \n",
       "10003             102.0                                           103868.5     \n",
       "10004              25.5                                           180903.0     \n",
       "10005              59.5                                           339926.5     \n",
       "\n",
       "          Number of Buildings - Self-reported  Occupancy  ENERGY STAR Score  \\\n",
       "Zip Code                                                                      \n",
       "10001                                     1.0      100.0               58.0   \n",
       "10002                                     1.0      100.0               45.0   \n",
       "10003                                     1.0      100.0               46.0   \n",
       "10004                                     1.0      100.0                2.0   \n",
       "10005                                     1.0      100.0               30.0   \n",
       "\n",
       "          Site EUI (kBtu/ft_2)  Weather Normalized Site EUI (kBtu/ft_2)  \\\n",
       "Zip Code                                                                  \n",
       "10001                    73.30                                    72.70   \n",
       "10002                    90.80                                    90.50   \n",
       "10003                    80.95                                    81.10   \n",
       "10004                   103.40                                   102.80   \n",
       "10005                    80.75                                    80.85   \n",
       "\n",
       "            ...     Total GHG Emissions (Metric Tons CO2e)  \\\n",
       "Zip Code    ...                                              \n",
       "10001       ...                                     579.80   \n",
       "10002       ...                                     874.00   \n",
       "10003       ...                                     622.30   \n",
       "10004       ...                                    1841.25   \n",
       "10005       ...                                    2072.60   \n",
       "\n",
       "          Direct GHG Emissions (Metric Tons CO2e)  \\\n",
       "Zip Code                                            \n",
       "10001                                      345.00   \n",
       "10002                                      284.55   \n",
       "10003                                      325.35   \n",
       "10004                                      156.50   \n",
       "10005                                      328.00   \n",
       "\n",
       "          Indirect GHG Emissions (Metric Tons CO2e)  \\\n",
       "Zip Code                                              \n",
       "10001                                        243.40   \n",
       "10002                                        540.85   \n",
       "10003                                        268.85   \n",
       "10004                                        704.30   \n",
       "10005                                       1122.05   \n",
       "\n",
       "          DOF Property Floor Area (ft_2)  Property GFA - Self-reported (ft_2)  \\\n",
       "Zip Code                                                                        \n",
       "10001                           115925.0                             115925.0   \n",
       "10002                           131365.0                             136070.0   \n",
       "10003                           109575.0                             115200.0   \n",
       "10004                           249098.5                             233292.0   \n",
       "10005                           382107.0                             341626.5   \n",
       "\n",
       "          Water Use (All Water Sources) (kgal)  \\\n",
       "Zip Code                                         \n",
       "10001                                  5161.55   \n",
       "10002                                  6012.85   \n",
       "10003                                  4771.30   \n",
       "10004                                  6226.25   \n",
       "10005                                 14706.70   \n",
       "\n",
       "          Municipally Supplied Potable Water - Indoor Intensity (gal/ft_2)  \\\n",
       "Zip Code                                                                     \n",
       "10001                                                39.875                  \n",
       "10002                                                56.055                  \n",
       "10003                                                42.750                  \n",
       "10004                                                 0.320                  \n",
       "10005                                                43.640                  \n",
       "\n",
       "          DEP Provided Water Use (kgal)     eui   log_eui  \n",
       "Zip Code                                                   \n",
       "10001                           3860.00   73.30  1.865104  \n",
       "10002                           5129.60   90.80  1.958048  \n",
       "10003                           4616.20   80.95  1.908193  \n",
       "10004                           7035.05  103.40  2.013860  \n",
       "10005                          14706.70   80.75  1.906648  \n",
       "\n",
       "[5 rows x 28 columns]"
      ]
     },
     "execution_count": 41,
     "metadata": {},
     "output_type": "execute_result"
    }
   ],
   "source": [
    "zipCode = df.groupby(\"Zip Code\").median()\n",
    "zipCode.head()"
   ]
  },
  {
   "cell_type": "code",
   "execution_count": 42,
   "metadata": {
    "collapsed": false
   },
   "outputs": [
    {
     "data": {
      "text/plain": [
       "Zip Code\n",
       "10001    5.001510\n",
       "10002    6.423165\n",
       "10003    5.401910\n",
       "10004    7.892470\n",
       "10005    6.066860\n",
       "dtype: float64"
      ]
     },
     "execution_count": 42,
     "metadata": {},
     "output_type": "execute_result"
    }
   ],
   "source": [
    "zcEE = zipCode[\"Total GHG Emissions (Metric Tons CO2e)\"]/zipCode[\"Property GFA - Self-reported (ft_2)\"]*1000\n",
    "zcEE.head()"
   ]
  },
  {
   "cell_type": "code",
   "execution_count": 43,
   "metadata": {
    "collapsed": false
   },
   "outputs": [
    {
     "data": {
      "text/html": [
       "<div>\n",
       "<table border=\"1\" class=\"dataframe\">\n",
       "  <thead>\n",
       "    <tr style=\"text-align: right;\">\n",
       "      <th></th>\n",
       "      <th>Zip Code</th>\n",
       "      <th>GHG intensity</th>\n",
       "    </tr>\n",
       "  </thead>\n",
       "  <tbody>\n",
       "    <tr>\n",
       "      <th>0</th>\n",
       "      <td>10001</td>\n",
       "      <td>5.001510</td>\n",
       "    </tr>\n",
       "    <tr>\n",
       "      <th>1</th>\n",
       "      <td>10002</td>\n",
       "      <td>6.423165</td>\n",
       "    </tr>\n",
       "    <tr>\n",
       "      <th>2</th>\n",
       "      <td>10003</td>\n",
       "      <td>5.401910</td>\n",
       "    </tr>\n",
       "    <tr>\n",
       "      <th>3</th>\n",
       "      <td>10004</td>\n",
       "      <td>7.892470</td>\n",
       "    </tr>\n",
       "    <tr>\n",
       "      <th>4</th>\n",
       "      <td>10005</td>\n",
       "      <td>6.066860</td>\n",
       "    </tr>\n",
       "  </tbody>\n",
       "</table>\n",
       "</div>"
      ],
      "text/plain": [
       "  Zip Code  GHG intensity\n",
       "0    10001       5.001510\n",
       "1    10002       6.423165\n",
       "2    10003       5.401910\n",
       "3    10004       7.892470\n",
       "4    10005       6.066860"
      ]
     },
     "execution_count": 43,
     "metadata": {},
     "output_type": "execute_result"
    }
   ],
   "source": [
    "zcEE = zcEE.reset_index()\n",
    "zcEE[\"Zip Code\"] = zcEE[\"Zip Code\"].astype(str)\n",
    "zcEE.columns = [\"Zip Code\", \"GHG intensity\"]\n",
    "zcEE.head()"
   ]
  },
  {
   "cell_type": "markdown",
   "metadata": {},
   "source": [
    "## Get zip code level asthma hospitalization rates"
   ]
  },
  {
   "cell_type": "code",
   "execution_count": null,
   "metadata": {
    "collapsed": true
   },
   "outputs": [],
   "source": [
    "html= requests.get(\"https://www.health.ny.gov/statistics/ny_asthma/hosp/zipcode/\"+boro+\"_t6.htm\").content"
   ]
  },
  {
   "cell_type": "code",
   "execution_count": 53,
   "metadata": {
    "collapsed": true
   },
   "outputs": [],
   "source": [
    "html= requests.get?"
   ]
  },
  {
   "cell_type": "code",
   "execution_count": null,
   "metadata": {
    "collapsed": true
   },
   "outputs": [],
   "source": [
    "html= requests.get"
   ]
  },
  {
   "cell_type": "code",
   "execution_count": 2,
   "metadata": {
    "collapsed": false,
    "scrolled": true
   },
   "outputs": [
    {
     "ename": "ImportError",
     "evalue": "lxml not found, please install it",
     "output_type": "error",
     "traceback": [
      "\u001b[0;31m---------------------------------------------------------------------------\u001b[0m",
      "\u001b[0;31mImportError\u001b[0m                               Traceback (most recent call last)",
      "\u001b[0;32m<ipython-input-2-59057c9f5d0c>\u001b[0m in \u001b[0;36m<module>\u001b[0;34m()\u001b[0m\n\u001b[1;32m      4\u001b[0m \u001b[0;32mfor\u001b[0m \u001b[0mboro\u001b[0m \u001b[0;32min\u001b[0m \u001b[0mcounties\u001b[0m\u001b[0;34m:\u001b[0m\u001b[0;34m\u001b[0m\u001b[0m\n\u001b[1;32m      5\u001b[0m     \u001b[0mhtml\u001b[0m\u001b[0;34m=\u001b[0m \u001b[0mrequests\u001b[0m\u001b[0;34m.\u001b[0m\u001b[0mget\u001b[0m\u001b[0;34m(\u001b[0m\u001b[0;34m\"https://www.health.ny.gov/statistics/ny_asthma/hosp/zipcode/\"\u001b[0m\u001b[0;34m+\u001b[0m\u001b[0mboro\u001b[0m\u001b[0;34m+\u001b[0m\u001b[0;34m\"_t6.htm\"\u001b[0m\u001b[0;34m)\u001b[0m\u001b[0;34m.\u001b[0m\u001b[0mcontent\u001b[0m\u001b[0;34m\u001b[0m\u001b[0m\n\u001b[0;32m----> 6\u001b[0;31m     \u001b[0mfoo\u001b[0m \u001b[0;34m=\u001b[0m \u001b[0mpd\u001b[0m\u001b[0;34m.\u001b[0m\u001b[0mread_html\u001b[0m\u001b[0;34m(\u001b[0m\u001b[0mhtml\u001b[0m\u001b[0;34m)\u001b[0m\u001b[0;34m[\u001b[0m\u001b[0;36m0\u001b[0m\u001b[0;34m]\u001b[0m\u001b[0;34m\u001b[0m\u001b[0m\n\u001b[0m\u001b[1;32m      7\u001b[0m     \u001b[0mfoo\u001b[0m \u001b[0;34m=\u001b[0m \u001b[0mfoo\u001b[0m\u001b[0;34m.\u001b[0m\u001b[0miloc\u001b[0m\u001b[0;34m[\u001b[0m\u001b[0;36m2\u001b[0m\u001b[0;34m:\u001b[0m\u001b[0;34m]\u001b[0m\u001b[0;34m\u001b[0m\u001b[0m\n\u001b[1;32m      8\u001b[0m     \u001b[0mtmp\u001b[0m\u001b[0;34m.\u001b[0m\u001b[0mappend\u001b[0m\u001b[0;34m(\u001b[0m\u001b[0mfoo\u001b[0m\u001b[0;34m)\u001b[0m\u001b[0;34m\u001b[0m\u001b[0m\n",
      "\u001b[0;32m/opt/rh/anaconda/root/envs/PUI2016_Python3/lib/python3.5/site-packages/pandas/io/html.py\u001b[0m in \u001b[0;36mread_html\u001b[0;34m(io, match, flavor, header, index_col, skiprows, attrs, parse_dates, tupleize_cols, thousands, encoding)\u001b[0m\n\u001b[1;32m    872\u001b[0m     \u001b[0m_validate_header_arg\u001b[0m\u001b[0;34m(\u001b[0m\u001b[0mheader\u001b[0m\u001b[0;34m)\u001b[0m\u001b[0;34m\u001b[0m\u001b[0m\n\u001b[1;32m    873\u001b[0m     return _parse(flavor, io, match, header, index_col, skiprows,\n\u001b[0;32m--> 874\u001b[0;31m                   parse_dates, tupleize_cols, thousands, attrs, encoding)\n\u001b[0m",
      "\u001b[0;32m/opt/rh/anaconda/root/envs/PUI2016_Python3/lib/python3.5/site-packages/pandas/io/html.py\u001b[0m in \u001b[0;36m_parse\u001b[0;34m(flavor, io, match, header, index_col, skiprows, parse_dates, tupleize_cols, thousands, attrs, encoding)\u001b[0m\n\u001b[1;32m    724\u001b[0m     \u001b[0mretained\u001b[0m \u001b[0;34m=\u001b[0m \u001b[0;32mNone\u001b[0m\u001b[0;34m\u001b[0m\u001b[0m\n\u001b[1;32m    725\u001b[0m     \u001b[0;32mfor\u001b[0m \u001b[0mflav\u001b[0m \u001b[0;32min\u001b[0m \u001b[0mflavor\u001b[0m\u001b[0;34m:\u001b[0m\u001b[0;34m\u001b[0m\u001b[0m\n\u001b[0;32m--> 726\u001b[0;31m         \u001b[0mparser\u001b[0m \u001b[0;34m=\u001b[0m \u001b[0m_parser_dispatch\u001b[0m\u001b[0;34m(\u001b[0m\u001b[0mflav\u001b[0m\u001b[0;34m)\u001b[0m\u001b[0;34m\u001b[0m\u001b[0m\n\u001b[0m\u001b[1;32m    727\u001b[0m         \u001b[0mp\u001b[0m \u001b[0;34m=\u001b[0m \u001b[0mparser\u001b[0m\u001b[0;34m(\u001b[0m\u001b[0mio\u001b[0m\u001b[0;34m,\u001b[0m \u001b[0mcompiled_match\u001b[0m\u001b[0;34m,\u001b[0m \u001b[0mattrs\u001b[0m\u001b[0;34m,\u001b[0m \u001b[0mencoding\u001b[0m\u001b[0;34m)\u001b[0m\u001b[0;34m\u001b[0m\u001b[0m\n\u001b[1;32m    728\u001b[0m \u001b[0;34m\u001b[0m\u001b[0m\n",
      "\u001b[0;32m/opt/rh/anaconda/root/envs/PUI2016_Python3/lib/python3.5/site-packages/pandas/io/html.py\u001b[0m in \u001b[0;36m_parser_dispatch\u001b[0;34m(flavor)\u001b[0m\n\u001b[1;32m    683\u001b[0m     \u001b[0;32melse\u001b[0m\u001b[0;34m:\u001b[0m\u001b[0;34m\u001b[0m\u001b[0m\n\u001b[1;32m    684\u001b[0m         \u001b[0;32mif\u001b[0m \u001b[0;32mnot\u001b[0m \u001b[0m_HAS_LXML\u001b[0m\u001b[0;34m:\u001b[0m\u001b[0;34m\u001b[0m\u001b[0m\n\u001b[0;32m--> 685\u001b[0;31m             \u001b[0;32mraise\u001b[0m \u001b[0mImportError\u001b[0m\u001b[0;34m(\u001b[0m\u001b[0;34m\"lxml not found, please install it\"\u001b[0m\u001b[0;34m)\u001b[0m\u001b[0;34m\u001b[0m\u001b[0m\n\u001b[0m\u001b[1;32m    686\u001b[0m     \u001b[0;32mreturn\u001b[0m \u001b[0m_valid_parsers\u001b[0m\u001b[0;34m[\u001b[0m\u001b[0mflavor\u001b[0m\u001b[0;34m]\u001b[0m\u001b[0;34m\u001b[0m\u001b[0m\n\u001b[1;32m    687\u001b[0m \u001b[0;34m\u001b[0m\u001b[0m\n",
      "\u001b[0;31mImportError\u001b[0m: lxml not found, please install it"
     ]
    }
   ],
   "source": [
    "counties = [\"new_y\", \"queen\", \"kings\", \"bronx\", \"richm\"]\n",
    "tmp = []\n",
    "\n",
    "for boro in counties:\n",
    "    html= requests.get(\"https://www.health.ny.gov/statistics/ny_asthma/hosp/zipcode/\"+boro+\"_t6.htm\").content\n",
    "    foo = pd.read_html(html)[0]\n",
    "    foo = foo.iloc[2:]\n",
    "    tmp.append(foo)\n",
    "    \n",
    "asthma = pd.concat(tmp, axis=0)\n",
    "asthma.columns = [\"Zip Code\", \"Discharges 2012-2104\", \"Discharge Rate\"]\n",
    "asthma.reset_index(inplace=True)\n",
    "asthma = asthma.drop(\"index\", axis=1)"
   ]
  },
  {
   "cell_type": "code",
   "execution_count": 48,
   "metadata": {
    "collapsed": false
   },
   "outputs": [
    {
     "ename": "NameError",
     "evalue": "name 'asthma' is not defined",
     "output_type": "error",
     "traceback": [
      "\u001b[0;31m\u001b[0m",
      "\u001b[0;31mNameError\u001b[0mTraceback (most recent call last)",
      "\u001b[0;32m<ipython-input-48-e3e03661d48b>\u001b[0m in \u001b[0;36m<module>\u001b[0;34m()\u001b[0m\n\u001b[0;32m----> 1\u001b[0;31m \u001b[0masthma\u001b[0m\u001b[0;34m[\u001b[0m\u001b[0;34m\"Discharges 2012-2014\"\u001b[0m\u001b[0;34m]\u001b[0m \u001b[0;34m=\u001b[0m \u001b[0mpd\u001b[0m\u001b[0;34m.\u001b[0m\u001b[0mto_numeric\u001b[0m\u001b[0;34m(\u001b[0m\u001b[0masthma\u001b[0m\u001b[0;34m[\u001b[0m\u001b[0;34m\"Discharge 2012-2014\"\u001b[0m\u001b[0;34m]\u001b[0m\u001b[0;34m,\u001b[0m \u001b[0merrors\u001b[0m \u001b[0;34m=\u001b[0m \u001b[0;34m\"coerce\"\u001b[0m\u001b[0;34m)\u001b[0m\u001b[0;34m\u001b[0m\u001b[0m\n\u001b[0m\u001b[1;32m      2\u001b[0m \u001b[0masthma\u001b[0m\u001b[0;34m[\u001b[0m\u001b[0;34m\"Discharge Rate\"\u001b[0m\u001b[0;34m]\u001b[0m \u001b[0;34m=\u001b[0m \u001b[0mpd\u001b[0m\u001b[0;34m.\u001b[0m\u001b[0mto_numeric\u001b[0m\u001b[0;34m(\u001b[0m\u001b[0masthma\u001b[0m\u001b[0;34m[\u001b[0m\u001b[0;34m\"Discharge Rate\"\u001b[0m\u001b[0;34m]\u001b[0m\u001b[0;34m,\u001b[0m \u001b[0merrors\u001b[0m \u001b[0;34m=\u001b[0m \u001b[0;34m\"coerce\"\u001b[0m\u001b[0;34m)\u001b[0m\u001b[0;34m\u001b[0m\u001b[0m\n\u001b[1;32m      3\u001b[0m \u001b[0masthma\u001b[0m\u001b[0;34m[\u001b[0m\u001b[0;34m\"Zip Code\"\u001b[0m\u001b[0;34m]\u001b[0m \u001b[0;34m=\u001b[0m \u001b[0masthma\u001b[0m\u001b[0;34m[\u001b[0m\u001b[0;34m\"Zip Code\"\u001b[0m\u001b[0;34m]\u001b[0m\u001b[0;34m.\u001b[0m\u001b[0mapply\u001b[0m\u001b[0;34m(\u001b[0m\u001b[0;32mlambda\u001b[0m \u001b[0mx\u001b[0m\u001b[0;34m:\u001b[0m \u001b[0mstr\u001b[0m\u001b[0;34m(\u001b[0m\u001b[0mx\u001b[0m\u001b[0;34m[\u001b[0m\u001b[0;34m:\u001b[0m\u001b[0;36m5\u001b[0m\u001b[0;34m]\u001b[0m\u001b[0;34m)\u001b[0m\u001b[0;34m)\u001b[0m\u001b[0;34m\u001b[0m\u001b[0m\n\u001b[1;32m      4\u001b[0m \u001b[0masthma\u001b[0m \u001b[0;34m=\u001b[0m \u001b[0masthma\u001b[0m\u001b[0;34m.\u001b[0m\u001b[0mdropna\u001b[0m\u001b[0;34m(\u001b[0m\u001b[0;34m)\u001b[0m\u001b[0;34m\u001b[0m\u001b[0m\n\u001b[1;32m      5\u001b[0m \u001b[0masthma\u001b[0m\u001b[0;34m.\u001b[0m\u001b[0mhead\u001b[0m\u001b[0;34m(\u001b[0m\u001b[0;34m)\u001b[0m\u001b[0;34m\u001b[0m\u001b[0m\n",
      "\u001b[0;31mNameError\u001b[0m: name 'asthma' is not defined"
     ]
    }
   ],
   "source": [
    "asthma[\"Discharges 2012-2014\"] = pd.to_numeric(asthma[\"Discharge 2012-2014\"], errors = \"coerce\")\n",
    "asthma[\"Discharge Rate\"] = pd.to_numeric(asthma[\"Discharge Rate\"], errors = \"coerce\")\n",
    "asthma[\"Zip Code\"] = asthma[\"Zip Code\"].apply(lambda x: str(x[:5]))\n",
    "asthma = asthma.dropna()\n",
    "asthma.head()"
   ]
  },
  {
   "cell_type": "markdown",
   "metadata": {},
   "source": [
    "## Merge them"
   ]
  },
  {
   "cell_type": "code",
   "execution_count": null,
   "metadata": {
    "collapsed": true
   },
   "outputs": [],
   "source": [
    "merged = pd.merge(zcEE, asthma, on=\"Zip Code\")\n",
    "merged.head()"
   ]
  },
  {
   "cell_type": "code",
   "execution_count": null,
   "metadata": {
    "collapsed": true
   },
   "outputs": [],
   "source": [
    "short = merged[[\"GHG intensity\", \"Discharge Rate\"]]\n",
    "short = short.dropna()\n",
    "feat = short[\"GHG intensity\"]\n",
    "targ = short[\"Discharge Rate\"]"
   ]
  },
  {
   "cell_type": "code",
   "execution_count": null,
   "metadata": {
    "collapsed": true
   },
   "outputs": [],
   "source": []
  },
  {
   "cell_type": "code",
   "execution_count": null,
   "metadata": {
    "collapsed": true
   },
   "outputs": [],
   "source": [
    "plt.scatter(feat, targ)\n",
    "slope, intercept, r_value, p_value, std_err = stats.linregress(feat, targ)\n",
    "plt.plot(feat, intercept + slope + feat, color = \"firebrick\" )\n",
    "plt.xlabel(\"GHG intensity (kg/sq.ft.)\")\n",
    "plt.ylabel(\"Hospital discharge rate (per 10,000 population)\")\n",
    "plt.text(8, 45, \"y = %.2f + %.2f*x\" %(intercept, slope), fontsize = 14)\n",
    "plt.title(\"Asthma v. GHG intensity (corr=%.2f)\" %np.corrcoef(feat, targ)[0][1])"
   ]
  },
  {
   "cell_type": "code",
   "execution_count": null,
   "metadata": {
    "collapsed": true
   },
   "outputs": [],
   "source": []
  },
  {
   "cell_type": "code",
   "execution_count": null,
   "metadata": {
    "collapsed": true
   },
   "outputs": [],
   "source": []
  },
  {
   "cell_type": "code",
   "execution_count": null,
   "metadata": {
    "collapsed": true
   },
   "outputs": [],
   "source": []
  }
 ],
 "metadata": {
  "kernelspec": {
   "display_name": "PUI2016_Python3",
   "language": "python",
   "name": "pui2016_python3"
  },
  "language_info": {
   "codemirror_mode": {
    "name": "ipython",
    "version": 3
   },
   "file_extension": ".py",
   "mimetype": "text/x-python",
   "name": "python",
   "nbconvert_exporter": "python",
   "pygments_lexer": "ipython3",
   "version": "3.5.4"
  }
 },
 "nbformat": 4,
 "nbformat_minor": 0
}
